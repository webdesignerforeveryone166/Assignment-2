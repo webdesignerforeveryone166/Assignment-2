{
 "cells": [
  {
   "cell_type": "markdown",
   "metadata": {},
   "source": [
    "# Assignment - 2"
   ]
  },
  {
   "cell_type": "code",
   "execution_count": 1,
   "metadata": {},
   "outputs": [],
   "source": [
    "# to compute an number if it is even then append it to list\n",
    "# Problem1\n"
   ]
  },
  {
   "cell_type": "code",
   "execution_count": 4,
   "metadata": {},
   "outputs": [
    {
     "name": "stdout",
     "output_type": "stream",
     "text": [
      "Enter the number:10\n",
      "Enter the number:8\n",
      "Enter the number:6\n",
      "Enter the number:20\n",
      "Enter the number:24\n",
      "Enter the number:36\n",
      "Enter the number:48\n",
      "Enter the number:95\n",
      "Enter the number:15\n",
      "Enter the number:33\n",
      "[10, 8, 6, 20, 24, 36, 48]\n"
     ]
    }
   ],
   "source": [
    "list1 = list()\n",
    "i = 0\n",
    "while i<10:\n",
    "    number = input('Enter the number:')\n",
    "    num = int(number)\n",
    "    if num % 2 == 0:\n",
    "        list1.append(num)\n",
    "    else:\n",
    "        pass\n",
    "    i = i + 1\n",
    "print(list1)"
   ]
  },
  {
   "cell_type": "markdown",
   "metadata": {},
   "source": [
    "# Explanation on  LIST COMPREHENSION with examples"
   ]
  },
  {
   "cell_type": "code",
   "execution_count": 3,
   "metadata": {},
   "outputs": [],
   "source": [
    "# Python  LIST COMPREHENSION : python  LIST COMPREHENSION is a valueable tool in creating list and reducing code.\n",
    "# List Comprehension vs For Loop in Python :- \n",
    "# Suppose, we want to separate the letters of the word human and add the letters as items of a list.\n",
    "#The first thing that comes in mind would be using for loop.\n",
    "\n",
    "\n"
   ]
  },
  {
   "cell_type": "code",
   "execution_count": 5,
   "metadata": {},
   "outputs": [
    {
     "name": "stdout",
     "output_type": "stream",
     "text": [
      "['H', 'u', 'm', 'a', 'n']\n"
     ]
    }
   ],
   "source": [
    "# Example1 iterating through a string using for loop:\n",
    "h_letter = []\n",
    "for letter in 'Human':\n",
    "    h_letter.append(letter)\n",
    "print(h_letter)\n"
   ]
  },
  {
   "cell_type": "code",
   "execution_count": 6,
   "metadata": {},
   "outputs": [],
   "source": [
    "# However, Python has an easier way to solve this issue using List Comprehension. \n",
    "# List comprehension is an elegant way to define and create lists based on existing lists.\n",
    "\n",
    "# Let’s see how the above program can be written using list comprehensions.\n",
    "\n"
   ]
  },
  {
   "cell_type": "code",
   "execution_count": 7,
   "metadata": {},
   "outputs": [
    {
     "name": "stdout",
     "output_type": "stream",
     "text": [
      "['H', 'u', 'm', 'a', 'n']\n"
     ]
    }
   ],
   "source": [
    "# Example 2: Iterating through a string Using List Comprehension\n",
    "h_letter = [letter for letter in 'Human']\n",
    "print(h_letter)"
   ]
  },
  {
   "cell_type": "code",
   "execution_count": 8,
   "metadata": {},
   "outputs": [
    {
     "name": "stdout",
     "output_type": "stream",
     "text": [
      "[0, 3, 6, 9, 12, 15, 18, 21, 24, 27, 30, 33, 36, 39, 42, 45, 48, 51, 54, 57, 60, 63, 66, 69, 72, 75, 78, 81, 84, 87, 90, 93, 96, 99]\n"
     ]
    }
   ],
   "source": [
    "# Example 3 : Suppose there are 100 numbers and we want to add numbers which are divided by 3 into the list\n",
    "# using for loop\n",
    "ls = list()\n",
    "for i in range(100):\n",
    "    if i%3 == 0:\n",
    "        ls.append(i)\n",
    "    else:\n",
    "        pass\n",
    "print(ls)\n",
    "        \n",
    "   "
   ]
  },
  {
   "cell_type": "code",
   "execution_count": 9,
   "metadata": {},
   "outputs": [
    {
     "name": "stdout",
     "output_type": "stream",
     "text": [
      "[0, 3, 6, 9, 12, 15, 18, 21, 24, 27, 30, 33, 36, 39, 42, 45, 48, 51, 54, 57, 60, 63, 66, 69, 72, 75, 78, 81, 84, 87, 90, 93, 96, 99]\n"
     ]
    }
   ],
   "source": [
    "# Now we can print the same answer using  List Comprehension and in very less code\n",
    "ls = [i for i in range(100) if i%3 == 0]\n",
    "print(ls)"
   ]
  },
  {
   "cell_type": "code",
   "execution_count": 10,
   "metadata": {},
   "outputs": [],
   "source": [
    "# This code gives as the same output and in very less code yhis is the advantage of using  List Comprehension "
   ]
  },
  {
   "cell_type": "markdown",
   "metadata": {},
   "source": [
    "# Syntax of List Comprehension\n"
   ]
  },
  {
   "cell_type": "code",
   "execution_count": 11,
   "metadata": {},
   "outputs": [],
   "source": [
    "# [expression for item in list]\n"
   ]
  },
  {
   "cell_type": "markdown",
   "metadata": {},
   "source": [
    "# # Problem 3 In this assignment, given a number n, you have to write a program that generates a dictionary d which\n",
    "# contains (i, i*i), where i is from 1 to n (both included )"
   ]
  },
  {
   "cell_type": "code",
   "execution_count": 12,
   "metadata": {},
   "outputs": [
    {
     "name": "stdout",
     "output_type": "stream",
     "text": [
      "Enter the number:25\n",
      "{1: 1, 2: 4, 3: 9, 4: 16, 5: 25, 6: 36, 7: 49, 8: 64, 9: 81, 10: 100, 11: 121, 12: 144, 13: 169, 14: 196, 15: 225, 16: 256, 17: 289, 18: 324, 19: 361, 20: 400, 21: 441, 22: 484, 23: 529, 24: 576, 25: 625}\n"
     ]
    }
   ],
   "source": [
    "dict1 = dict()\n",
    "number = input(\"Enter the number:\")\n",
    "num = int(number)\n",
    "i = 1\n",
    "while i <= num:\n",
    "    if num != 0:\n",
    "        n1 = i * i\n",
    "        dict1[i] = n1\n",
    "        i = i + 1\n",
    "        \n",
    "print(dict1)\n",
    "    \n",
    "    \n",
    "    \n"
   ]
  },
  {
   "cell_type": "markdown",
   "metadata": {},
   "source": [
    "# Assignment questin 4 to compute the charging point of a robot\n"
   ]
  },
  {
   "cell_type": "code",
   "execution_count": 13,
   "metadata": {},
   "outputs": [
    {
     "name": "stdout",
     "output_type": "stream",
     "text": [
      "Enter the number of direcions:4\n",
      "4\n",
      "Enter the number of steps :5\n",
      "UP 5\n",
      "Enter the number of steps :3\n",
      "Down 3\n",
      "Enter the number of steps :3\n",
      "Left 3\n",
      "Enter the number of steps :2\n",
      "Right 2\n",
      "The final position of robot from current position is: 2\n"
     ]
    }
   ],
   "source": [
    "directions = input(\"Enter the number of direcions:\")\n",
    "direct = int(directions)\n",
    "print(direct)\n",
    "up_direction = input('Enter the number of steps :')\n",
    "Up_direction = int(up_direction)\n",
    "print('UP' , Up_direction)\n",
    "down_direction = input('Enter the number of steps :')\n",
    "Down_direction = int(down_direction)\n",
    "print('Down' , Down_direction)\n",
    "left_direction = input('Enter the number of steps :')\n",
    "Left_direction = int(left_direction)\n",
    "print('Left' , Left_direction)\n",
    "right_direction = input('Enter the number of steps :')\n",
    "Right_direction = int(right_direction)\n",
    "print('Right' , Right_direction)\n",
    "import math\n",
    "final_distance = math.sqrt(pow((Up_direction - Down_direction),2) + pow((Left_direction - Right_direction),2) )\n",
    "print(\"The final position of robot from current position is:\",round(final_distance))"
   ]
  },
  {
   "cell_type": "markdown",
   "metadata": {},
   "source": [
    "# Assignment 2 complete"
   ]
  },
  {
   "cell_type": "code",
   "execution_count": null,
   "metadata": {},
   "outputs": [],
   "source": []
  }
 ],
 "metadata": {
  "kernelspec": {
   "display_name": "Python 3",
   "language": "python",
   "name": "python3"
  },
  "language_info": {
   "codemirror_mode": {
    "name": "ipython",
    "version": 3
   },
   "file_extension": ".py",
   "mimetype": "text/x-python",
   "name": "python",
   "nbconvert_exporter": "python",
   "pygments_lexer": "ipython3",
   "version": "3.8.3"
  }
 },
 "nbformat": 4,
 "nbformat_minor": 4
}
